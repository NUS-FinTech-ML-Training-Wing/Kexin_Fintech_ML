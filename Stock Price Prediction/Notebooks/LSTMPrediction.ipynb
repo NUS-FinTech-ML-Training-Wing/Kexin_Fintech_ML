{
  "nbformat": 4,
  "nbformat_minor": 0,
  "metadata": {
    "colab": {
      "name": "LSTMPrediction.ipynb",
      "provenance": []
    },
    "kernelspec": {
      "name": "python3",
      "display_name": "Python 3"
    }
  },
  "cells": [
    {
      "cell_type": "code",
      "metadata": {
        "id": "inEBCerhA3Bv"
      },
      "source": [
        "import math\n",
        "import pandas_datareader as web\n",
        "import numpy as np\n",
        "from sklearn.preprocessing import MinMaxScaler\n",
        "from keras.layers import LSTM, Dense\n",
        "from keras.models import Sequential\n",
        "import matplotlib.pyplot as plt\n",
        "plt.style.use('fivethirtyeight')\n",
        "import pandas as pd"
      ],
      "execution_count": null,
      "outputs": []
    },
    {
      "cell_type": "code",
      "metadata": {
        "id": "MbMRtBN6A4f9",
        "outputId": "354266a9-29bb-4b25-e538-e9c86c3ab129",
        "colab": {
          "resources": {
            "http://localhost:8080/nbextensions/google.colab/files.js": {
              "data": "Ly8gQ29weXJpZ2h0IDIwMTcgR29vZ2xlIExMQwovLwovLyBMaWNlbnNlZCB1bmRlciB0aGUgQXBhY2hlIExpY2Vuc2UsIFZlcnNpb24gMi4wICh0aGUgIkxpY2Vuc2UiKTsKLy8geW91IG1heSBub3QgdXNlIHRoaXMgZmlsZSBleGNlcHQgaW4gY29tcGxpYW5jZSB3aXRoIHRoZSBMaWNlbnNlLgovLyBZb3UgbWF5IG9idGFpbiBhIGNvcHkgb2YgdGhlIExpY2Vuc2UgYXQKLy8KLy8gICAgICBodHRwOi8vd3d3LmFwYWNoZS5vcmcvbGljZW5zZXMvTElDRU5TRS0yLjAKLy8KLy8gVW5sZXNzIHJlcXVpcmVkIGJ5IGFwcGxpY2FibGUgbGF3IG9yIGFncmVlZCB0byBpbiB3cml0aW5nLCBzb2Z0d2FyZQovLyBkaXN0cmlidXRlZCB1bmRlciB0aGUgTGljZW5zZSBpcyBkaXN0cmlidXRlZCBvbiBhbiAiQVMgSVMiIEJBU0lTLAovLyBXSVRIT1VUIFdBUlJBTlRJRVMgT1IgQ09ORElUSU9OUyBPRiBBTlkgS0lORCwgZWl0aGVyIGV4cHJlc3Mgb3IgaW1wbGllZC4KLy8gU2VlIHRoZSBMaWNlbnNlIGZvciB0aGUgc3BlY2lmaWMgbGFuZ3VhZ2UgZ292ZXJuaW5nIHBlcm1pc3Npb25zIGFuZAovLyBsaW1pdGF0aW9ucyB1bmRlciB0aGUgTGljZW5zZS4KCi8qKgogKiBAZmlsZW92ZXJ2aWV3IEhlbHBlcnMgZm9yIGdvb2dsZS5jb2xhYiBQeXRob24gbW9kdWxlLgogKi8KKGZ1bmN0aW9uKHNjb3BlKSB7CmZ1bmN0aW9uIHNwYW4odGV4dCwgc3R5bGVBdHRyaWJ1dGVzID0ge30pIHsKICBjb25zdCBlbGVtZW50ID0gZG9jdW1lbnQuY3JlYXRlRWxlbWVudCgnc3BhbicpOwogIGVsZW1lbnQudGV4dENvbnRlbnQgPSB0ZXh0OwogIGZvciAoY29uc3Qga2V5IG9mIE9iamVjdC5rZXlzKHN0eWxlQXR0cmlidXRlcykpIHsKICAgIGVsZW1lbnQuc3R5bGVba2V5XSA9IHN0eWxlQXR0cmlidXRlc1trZXldOwogIH0KICByZXR1cm4gZWxlbWVudDsKfQoKLy8gTWF4IG51bWJlciBvZiBieXRlcyB3aGljaCB3aWxsIGJlIHVwbG9hZGVkIGF0IGEgdGltZS4KY29uc3QgTUFYX1BBWUxPQURfU0laRSA9IDEwMCAqIDEwMjQ7CgpmdW5jdGlvbiBfdXBsb2FkRmlsZXMoaW5wdXRJZCwgb3V0cHV0SWQpIHsKICBjb25zdCBzdGVwcyA9IHVwbG9hZEZpbGVzU3RlcChpbnB1dElkLCBvdXRwdXRJZCk7CiAgY29uc3Qgb3V0cHV0RWxlbWVudCA9IGRvY3VtZW50LmdldEVsZW1lbnRCeUlkKG91dHB1dElkKTsKICAvLyBDYWNoZSBzdGVwcyBvbiB0aGUgb3V0cHV0RWxlbWVudCB0byBtYWtlIGl0IGF2YWlsYWJsZSBmb3IgdGhlIG5leHQgY2FsbAogIC8vIHRvIHVwbG9hZEZpbGVzQ29udGludWUgZnJvbSBQeXRob24uCiAgb3V0cHV0RWxlbWVudC5zdGVwcyA9IHN0ZXBzOwoKICByZXR1cm4gX3VwbG9hZEZpbGVzQ29udGludWUob3V0cHV0SWQpOwp9CgovLyBUaGlzIGlzIHJvdWdobHkgYW4gYXN5bmMgZ2VuZXJhdG9yIChub3Qgc3VwcG9ydGVkIGluIHRoZSBicm93c2VyIHlldCksCi8vIHdoZXJlIHRoZXJlIGFyZSBtdWx0aXBsZSBhc3luY2hyb25vdXMgc3RlcHMgYW5kIHRoZSBQeXRob24gc2lkZSBpcyBnb2luZwovLyB0byBwb2xsIGZvciBjb21wbGV0aW9uIG9mIGVhY2ggc3RlcC4KLy8gVGhpcyB1c2VzIGEgUHJvbWlzZSB0byBibG9jayB0aGUgcHl0aG9uIHNpZGUgb24gY29tcGxldGlvbiBvZiBlYWNoIHN0ZXAsCi8vIHRoZW4gcGFzc2VzIHRoZSByZXN1bHQgb2YgdGhlIHByZXZpb3VzIHN0ZXAgYXMgdGhlIGlucHV0IHRvIHRoZSBuZXh0IHN0ZXAuCmZ1bmN0aW9uIF91cGxvYWRGaWxlc0NvbnRpbnVlKG91dHB1dElkKSB7CiAgY29uc3Qgb3V0cHV0RWxlbWVudCA9IGRvY3VtZW50LmdldEVsZW1lbnRCeUlkKG91dHB1dElkKTsKICBjb25zdCBzdGVwcyA9IG91dHB1dEVsZW1lbnQuc3RlcHM7CgogIGNvbnN0IG5leHQgPSBzdGVwcy5uZXh0KG91dHB1dEVsZW1lbnQubGFzdFByb21pc2VWYWx1ZSk7CiAgcmV0dXJuIFByb21pc2UucmVzb2x2ZShuZXh0LnZhbHVlLnByb21pc2UpLnRoZW4oKHZhbHVlKSA9PiB7CiAgICAvLyBDYWNoZSB0aGUgbGFzdCBwcm9taXNlIHZhbHVlIHRvIG1ha2UgaXQgYXZhaWxhYmxlIHRvIHRoZSBuZXh0CiAgICAvLyBzdGVwIG9mIHRoZSBnZW5lcmF0b3IuCiAgICBvdXRwdXRFbGVtZW50Lmxhc3RQcm9taXNlVmFsdWUgPSB2YWx1ZTsKICAgIHJldHVybiBuZXh0LnZhbHVlLnJlc3BvbnNlOwogIH0pOwp9CgovKioKICogR2VuZXJhdG9yIGZ1bmN0aW9uIHdoaWNoIGlzIGNhbGxlZCBiZXR3ZWVuIGVhY2ggYXN5bmMgc3RlcCBvZiB0aGUgdXBsb2FkCiAqIHByb2Nlc3MuCiAqIEBwYXJhbSB7c3RyaW5nfSBpbnB1dElkIEVsZW1lbnQgSUQgb2YgdGhlIGlucHV0IGZpbGUgcGlja2VyIGVsZW1lbnQuCiAqIEBwYXJhbSB7c3RyaW5nfSBvdXRwdXRJZCBFbGVtZW50IElEIG9mIHRoZSBvdXRwdXQgZGlzcGxheS4KICogQHJldHVybiB7IUl0ZXJhYmxlPCFPYmplY3Q+fSBJdGVyYWJsZSBvZiBuZXh0IHN0ZXBzLgogKi8KZnVuY3Rpb24qIHVwbG9hZEZpbGVzU3RlcChpbnB1dElkLCBvdXRwdXRJZCkgewogIGNvbnN0IGlucHV0RWxlbWVudCA9IGRvY3VtZW50LmdldEVsZW1lbnRCeUlkKGlucHV0SWQpOwogIGlucHV0RWxlbWVudC5kaXNhYmxlZCA9IGZhbHNlOwoKICBjb25zdCBvdXRwdXRFbGVtZW50ID0gZG9jdW1lbnQuZ2V0RWxlbWVudEJ5SWQob3V0cHV0SWQpOwogIG91dHB1dEVsZW1lbnQuaW5uZXJIVE1MID0gJyc7CgogIGNvbnN0IHBpY2tlZFByb21pc2UgPSBuZXcgUHJvbWlzZSgocmVzb2x2ZSkgPT4gewogICAgaW5wdXRFbGVtZW50LmFkZEV2ZW50TGlzdGVuZXIoJ2NoYW5nZScsIChlKSA9PiB7CiAgICAgIHJlc29sdmUoZS50YXJnZXQuZmlsZXMpOwogICAgfSk7CiAgfSk7CgogIGNvbnN0IGNhbmNlbCA9IGRvY3VtZW50LmNyZWF0ZUVsZW1lbnQoJ2J1dHRvbicpOwogIGlucHV0RWxlbWVudC5wYXJlbnRFbGVtZW50LmFwcGVuZENoaWxkKGNhbmNlbCk7CiAgY2FuY2VsLnRleHRDb250ZW50ID0gJ0NhbmNlbCB1cGxvYWQnOwogIGNvbnN0IGNhbmNlbFByb21pc2UgPSBuZXcgUHJvbWlzZSgocmVzb2x2ZSkgPT4gewogICAgY2FuY2VsLm9uY2xpY2sgPSAoKSA9PiB7CiAgICAgIHJlc29sdmUobnVsbCk7CiAgICB9OwogIH0pOwoKICAvLyBXYWl0IGZvciB0aGUgdXNlciB0byBwaWNrIHRoZSBmaWxlcy4KICBjb25zdCBmaWxlcyA9IHlpZWxkIHsKICAgIHByb21pc2U6IFByb21pc2UucmFjZShbcGlja2VkUHJvbWlzZSwgY2FuY2VsUHJvbWlzZV0pLAogICAgcmVzcG9uc2U6IHsKICAgICAgYWN0aW9uOiAnc3RhcnRpbmcnLAogICAgfQogIH07CgogIGNhbmNlbC5yZW1vdmUoKTsKCiAgLy8gRGlzYWJsZSB0aGUgaW5wdXQgZWxlbWVudCBzaW5jZSBmdXJ0aGVyIHBpY2tzIGFyZSBub3QgYWxsb3dlZC4KICBpbnB1dEVsZW1lbnQuZGlzYWJsZWQgPSB0cnVlOwoKICBpZiAoIWZpbGVzKSB7CiAgICByZXR1cm4gewogICAgICByZXNwb25zZTogewogICAgICAgIGFjdGlvbjogJ2NvbXBsZXRlJywKICAgICAgfQogICAgfTsKICB9CgogIGZvciAoY29uc3QgZmlsZSBvZiBmaWxlcykgewogICAgY29uc3QgbGkgPSBkb2N1bWVudC5jcmVhdGVFbGVtZW50KCdsaScpOwogICAgbGkuYXBwZW5kKHNwYW4oZmlsZS5uYW1lLCB7Zm9udFdlaWdodDogJ2JvbGQnfSkpOwogICAgbGkuYXBwZW5kKHNwYW4oCiAgICAgICAgYCgke2ZpbGUudHlwZSB8fCAnbi9hJ30pIC0gJHtmaWxlLnNpemV9IGJ5dGVzLCBgICsKICAgICAgICBgbGFzdCBtb2RpZmllZDogJHsKICAgICAgICAgICAgZmlsZS5sYXN0TW9kaWZpZWREYXRlID8gZmlsZS5sYXN0TW9kaWZpZWREYXRlLnRvTG9jYWxlRGF0ZVN0cmluZygpIDoKICAgICAgICAgICAgICAgICAgICAgICAgICAgICAgICAgICAgJ24vYSd9IC0gYCkpOwogICAgY29uc3QgcGVyY2VudCA9IHNwYW4oJzAlIGRvbmUnKTsKICAgIGxpLmFwcGVuZENoaWxkKHBlcmNlbnQpOwoKICAgIG91dHB1dEVsZW1lbnQuYXBwZW5kQ2hpbGQobGkpOwoKICAgIGNvbnN0IGZpbGVEYXRhUHJvbWlzZSA9IG5ldyBQcm9taXNlKChyZXNvbHZlKSA9PiB7CiAgICAgIGNvbnN0IHJlYWRlciA9IG5ldyBGaWxlUmVhZGVyKCk7CiAgICAgIHJlYWRlci5vbmxvYWQgPSAoZSkgPT4gewogICAgICAgIHJlc29sdmUoZS50YXJnZXQucmVzdWx0KTsKICAgICAgfTsKICAgICAgcmVhZGVyLnJlYWRBc0FycmF5QnVmZmVyKGZpbGUpOwogICAgfSk7CiAgICAvLyBXYWl0IGZvciB0aGUgZGF0YSB0byBiZSByZWFkeS4KICAgIGxldCBmaWxlRGF0YSA9IHlpZWxkIHsKICAgICAgcHJvbWlzZTogZmlsZURhdGFQcm9taXNlLAogICAgICByZXNwb25zZTogewogICAgICAgIGFjdGlvbjogJ2NvbnRpbnVlJywKICAgICAgfQogICAgfTsKCiAgICAvLyBVc2UgYSBjaHVua2VkIHNlbmRpbmcgdG8gYXZvaWQgbWVzc2FnZSBzaXplIGxpbWl0cy4gU2VlIGIvNjIxMTU2NjAuCiAgICBsZXQgcG9zaXRpb24gPSAwOwogICAgd2hpbGUgKHBvc2l0aW9uIDwgZmlsZURhdGEuYnl0ZUxlbmd0aCkgewogICAgICBjb25zdCBsZW5ndGggPSBNYXRoLm1pbihmaWxlRGF0YS5ieXRlTGVuZ3RoIC0gcG9zaXRpb24sIE1BWF9QQVlMT0FEX1NJWkUpOwogICAgICBjb25zdCBjaHVuayA9IG5ldyBVaW50OEFycmF5KGZpbGVEYXRhLCBwb3NpdGlvbiwgbGVuZ3RoKTsKICAgICAgcG9zaXRpb24gKz0gbGVuZ3RoOwoKICAgICAgY29uc3QgYmFzZTY0ID0gYnRvYShTdHJpbmcuZnJvbUNoYXJDb2RlLmFwcGx5KG51bGwsIGNodW5rKSk7CiAgICAgIHlpZWxkIHsKICAgICAgICByZXNwb25zZTogewogICAgICAgICAgYWN0aW9uOiAnYXBwZW5kJywKICAgICAgICAgIGZpbGU6IGZpbGUubmFtZSwKICAgICAgICAgIGRhdGE6IGJhc2U2NCwKICAgICAgICB9LAogICAgICB9OwogICAgICBwZXJjZW50LnRleHRDb250ZW50ID0KICAgICAgICAgIGAke01hdGgucm91bmQoKHBvc2l0aW9uIC8gZmlsZURhdGEuYnl0ZUxlbmd0aCkgKiAxMDApfSUgZG9uZWA7CiAgICB9CiAgfQoKICAvLyBBbGwgZG9uZS4KICB5aWVsZCB7CiAgICByZXNwb25zZTogewogICAgICBhY3Rpb246ICdjb21wbGV0ZScsCiAgICB9CiAgfTsKfQoKc2NvcGUuZ29vZ2xlID0gc2NvcGUuZ29vZ2xlIHx8IHt9OwpzY29wZS5nb29nbGUuY29sYWIgPSBzY29wZS5nb29nbGUuY29sYWIgfHwge307CnNjb3BlLmdvb2dsZS5jb2xhYi5fZmlsZXMgPSB7CiAgX3VwbG9hZEZpbGVzLAogIF91cGxvYWRGaWxlc0NvbnRpbnVlLAp9Owp9KShzZWxmKTsK",
              "ok": true,
              "headers": [
                [
                  "content-type",
                  "application/javascript"
                ]
              ],
              "status": 200,
              "status_text": ""
            }
          },
          "base_uri": "https://localhost:8080/",
          "height": 72
        }
      },
      "source": [
        "from google.colab import files\n",
        "uploaded = files.upload()"
      ],
      "execution_count": null,
      "outputs": [
        {
          "output_type": "display_data",
          "data": {
            "text/html": [
              "\n",
              "     <input type=\"file\" id=\"files-02ec7057-7743-4866-9264-eac875ee3bd6\" name=\"files[]\" multiple disabled\n",
              "        style=\"border:none\" />\n",
              "     <output id=\"result-02ec7057-7743-4866-9264-eac875ee3bd6\">\n",
              "      Upload widget is only available when the cell has been executed in the\n",
              "      current browser session. Please rerun this cell to enable.\n",
              "      </output>\n",
              "      <script src=\"/nbextensions/google.colab/files.js\"></script> "
            ],
            "text/plain": [
              "<IPython.core.display.HTML object>"
            ]
          },
          "metadata": {
            "tags": []
          }
        },
        {
          "output_type": "stream",
          "text": [
            "Saving Stock Price Data.csv to Stock Price Data.csv\n"
          ],
          "name": "stdout"
        }
      ]
    },
    {
      "cell_type": "code",
      "metadata": {
        "id": "ecPbnEjjA9tc"
      },
      "source": [
        "df = pd.read_csv('Stock Price Data.csv')"
      ],
      "execution_count": null,
      "outputs": []
    },
    {
      "cell_type": "code",
      "metadata": {
        "id": "kmn88jOeBDp5",
        "outputId": "5771eba0-a1e0-4c21-cfef-bf901e284ae1",
        "colab": {
          "base_uri": "https://localhost:8080/",
          "height": 419
        }
      },
      "source": [
        "df"
      ],
      "execution_count": null,
      "outputs": [
        {
          "output_type": "execute_result",
          "data": {
            "text/html": [
              "<div>\n",
              "<style scoped>\n",
              "    .dataframe tbody tr th:only-of-type {\n",
              "        vertical-align: middle;\n",
              "    }\n",
              "\n",
              "    .dataframe tbody tr th {\n",
              "        vertical-align: top;\n",
              "    }\n",
              "\n",
              "    .dataframe thead th {\n",
              "        text-align: right;\n",
              "    }\n",
              "</style>\n",
              "<table border=\"1\" class=\"dataframe\">\n",
              "  <thead>\n",
              "    <tr style=\"text-align: right;\">\n",
              "      <th></th>\n",
              "      <th>Date</th>\n",
              "      <th>Open</th>\n",
              "      <th>High</th>\n",
              "      <th>Low</th>\n",
              "      <th>Close</th>\n",
              "      <th>Adj Close</th>\n",
              "      <th>Volume</th>\n",
              "    </tr>\n",
              "  </thead>\n",
              "  <tbody>\n",
              "    <tr>\n",
              "      <th>0</th>\n",
              "      <td>31/12/2009</td>\n",
              "      <td>37.068000</td>\n",
              "      <td>37.131000</td>\n",
              "      <td>36.948751</td>\n",
              "      <td>36.998249</td>\n",
              "      <td>36.998249</td>\n",
              "      <td>4892780.4</td>\n",
              "    </tr>\n",
              "    <tr>\n",
              "      <th>1</th>\n",
              "      <td>4/01/2010</td>\n",
              "      <td>37.187250</td>\n",
              "      <td>37.394250</td>\n",
              "      <td>37.092751</td>\n",
              "      <td>37.234500</td>\n",
              "      <td>37.234500</td>\n",
              "      <td>7115420.4</td>\n",
              "    </tr>\n",
              "    <tr>\n",
              "      <th>2</th>\n",
              "      <td>5/01/2010</td>\n",
              "      <td>37.151249</td>\n",
              "      <td>37.275000</td>\n",
              "      <td>36.780001</td>\n",
              "      <td>37.162500</td>\n",
              "      <td>37.162500</td>\n",
              "      <td>7148180.4</td>\n",
              "    </tr>\n",
              "    <tr>\n",
              "      <th>3</th>\n",
              "      <td>6/01/2010</td>\n",
              "      <td>37.218750</td>\n",
              "      <td>37.275000</td>\n",
              "      <td>37.045501</td>\n",
              "      <td>37.133251</td>\n",
              "      <td>37.133251</td>\n",
              "      <td>4610180.4</td>\n",
              "    </tr>\n",
              "    <tr>\n",
              "      <th>4</th>\n",
              "      <td>7/01/2010</td>\n",
              "      <td>37.166999</td>\n",
              "      <td>37.263749</td>\n",
              "      <td>36.946500</td>\n",
              "      <td>37.059000</td>\n",
              "      <td>37.059000</td>\n",
              "      <td>4356020.4</td>\n",
              "    </tr>\n",
              "    <tr>\n",
              "      <th>...</th>\n",
              "      <td>...</td>\n",
              "      <td>...</td>\n",
              "      <td>...</td>\n",
              "      <td>...</td>\n",
              "      <td>...</td>\n",
              "      <td>...</td>\n",
              "      <td>...</td>\n",
              "    </tr>\n",
              "    <tr>\n",
              "      <th>2260</th>\n",
              "      <td>24/12/2018</td>\n",
              "      <td>129.426000</td>\n",
              "      <td>132.755997</td>\n",
              "      <td>128.544003</td>\n",
              "      <td>129.597002</td>\n",
              "      <td>129.597002</td>\n",
              "      <td>4249370.4</td>\n",
              "    </tr>\n",
              "    <tr>\n",
              "      <th>2261</th>\n",
              "      <td>26/12/2018</td>\n",
              "      <td>130.667997</td>\n",
              "      <td>138.209994</td>\n",
              "      <td>130.308002</td>\n",
              "      <td>138.155997</td>\n",
              "      <td>138.155997</td>\n",
              "      <td>7299830.4</td>\n",
              "    </tr>\n",
              "    <tr>\n",
              "      <th>2262</th>\n",
              "      <td>27/12/2018</td>\n",
              "      <td>136.320003</td>\n",
              "      <td>142.079997</td>\n",
              "      <td>135.455997</td>\n",
              "      <td>142.079997</td>\n",
              "      <td>142.079997</td>\n",
              "      <td>7170950.4</td>\n",
              "    </tr>\n",
              "    <tr>\n",
              "      <th>2263</th>\n",
              "      <td>28/12/2018</td>\n",
              "      <td>142.800000</td>\n",
              "      <td>143.592004</td>\n",
              "      <td>139.749000</td>\n",
              "      <td>141.611993</td>\n",
              "      <td>141.611993</td>\n",
              "      <td>6548600.4</td>\n",
              "    </tr>\n",
              "    <tr>\n",
              "      <th>2264</th>\n",
              "      <td>31/12/2018</td>\n",
              "      <td>142.800000</td>\n",
              "      <td>144.573001</td>\n",
              "      <td>141.441005</td>\n",
              "      <td>143.673001</td>\n",
              "      <td>143.673001</td>\n",
              "      <td>4920950.4</td>\n",
              "    </tr>\n",
              "  </tbody>\n",
              "</table>\n",
              "<p>2265 rows × 7 columns</p>\n",
              "</div>"
            ],
            "text/plain": [
              "            Date        Open        High  ...       Close   Adj Close     Volume\n",
              "0     31/12/2009   37.068000   37.131000  ...   36.998249   36.998249  4892780.4\n",
              "1      4/01/2010   37.187250   37.394250  ...   37.234500   37.234500  7115420.4\n",
              "2      5/01/2010   37.151249   37.275000  ...   37.162500   37.162500  7148180.4\n",
              "3      6/01/2010   37.218750   37.275000  ...   37.133251   37.133251  4610180.4\n",
              "4      7/01/2010   37.166999   37.263749  ...   37.059000   37.059000  4356020.4\n",
              "...          ...         ...         ...  ...         ...         ...        ...\n",
              "2260  24/12/2018  129.426000  132.755997  ...  129.597002  129.597002  4249370.4\n",
              "2261  26/12/2018  130.667997  138.209994  ...  138.155997  138.155997  7299830.4\n",
              "2262  27/12/2018  136.320003  142.079997  ...  142.079997  142.079997  7170950.4\n",
              "2263  28/12/2018  142.800000  143.592004  ...  141.611993  141.611993  6548600.4\n",
              "2264  31/12/2018  142.800000  144.573001  ...  143.673001  143.673001  4920950.4\n",
              "\n",
              "[2265 rows x 7 columns]"
            ]
          },
          "metadata": {
            "tags": []
          },
          "execution_count": 4
        }
      ]
    },
    {
      "cell_type": "code",
      "metadata": {
        "id": "wF9CbCOvGrNV"
      },
      "source": [
        "df.set_index(df['Date'], inplace=True)"
      ],
      "execution_count": null,
      "outputs": []
    },
    {
      "cell_type": "code",
      "metadata": {
        "id": "BhV55a63G8ME",
        "outputId": "cff0e8ec-f4fd-4f6f-cbb0-bb03d4774d22",
        "colab": {
          "base_uri": "https://localhost:8080/",
          "height": 450
        }
      },
      "source": [
        "df"
      ],
      "execution_count": null,
      "outputs": [
        {
          "output_type": "execute_result",
          "data": {
            "text/html": [
              "<div>\n",
              "<style scoped>\n",
              "    .dataframe tbody tr th:only-of-type {\n",
              "        vertical-align: middle;\n",
              "    }\n",
              "\n",
              "    .dataframe tbody tr th {\n",
              "        vertical-align: top;\n",
              "    }\n",
              "\n",
              "    .dataframe thead th {\n",
              "        text-align: right;\n",
              "    }\n",
              "</style>\n",
              "<table border=\"1\" class=\"dataframe\">\n",
              "  <thead>\n",
              "    <tr style=\"text-align: right;\">\n",
              "      <th></th>\n",
              "      <th>Date</th>\n",
              "      <th>Open</th>\n",
              "      <th>High</th>\n",
              "      <th>Low</th>\n",
              "      <th>Close</th>\n",
              "      <th>Adj Close</th>\n",
              "      <th>Volume</th>\n",
              "    </tr>\n",
              "    <tr>\n",
              "      <th>Date</th>\n",
              "      <th></th>\n",
              "      <th></th>\n",
              "      <th></th>\n",
              "      <th></th>\n",
              "      <th></th>\n",
              "      <th></th>\n",
              "      <th></th>\n",
              "    </tr>\n",
              "  </thead>\n",
              "  <tbody>\n",
              "    <tr>\n",
              "      <th>31/12/2009</th>\n",
              "      <td>31/12/2009</td>\n",
              "      <td>37.068000</td>\n",
              "      <td>37.131000</td>\n",
              "      <td>36.948751</td>\n",
              "      <td>36.998249</td>\n",
              "      <td>36.998249</td>\n",
              "      <td>4892780.4</td>\n",
              "    </tr>\n",
              "    <tr>\n",
              "      <th>4/01/2010</th>\n",
              "      <td>4/01/2010</td>\n",
              "      <td>37.187250</td>\n",
              "      <td>37.394250</td>\n",
              "      <td>37.092751</td>\n",
              "      <td>37.234500</td>\n",
              "      <td>37.234500</td>\n",
              "      <td>7115420.4</td>\n",
              "    </tr>\n",
              "    <tr>\n",
              "      <th>5/01/2010</th>\n",
              "      <td>5/01/2010</td>\n",
              "      <td>37.151249</td>\n",
              "      <td>37.275000</td>\n",
              "      <td>36.780001</td>\n",
              "      <td>37.162500</td>\n",
              "      <td>37.162500</td>\n",
              "      <td>7148180.4</td>\n",
              "    </tr>\n",
              "    <tr>\n",
              "      <th>6/01/2010</th>\n",
              "      <td>6/01/2010</td>\n",
              "      <td>37.218750</td>\n",
              "      <td>37.275000</td>\n",
              "      <td>37.045501</td>\n",
              "      <td>37.133251</td>\n",
              "      <td>37.133251</td>\n",
              "      <td>4610180.4</td>\n",
              "    </tr>\n",
              "    <tr>\n",
              "      <th>7/01/2010</th>\n",
              "      <td>7/01/2010</td>\n",
              "      <td>37.166999</td>\n",
              "      <td>37.263749</td>\n",
              "      <td>36.946500</td>\n",
              "      <td>37.059000</td>\n",
              "      <td>37.059000</td>\n",
              "      <td>4356020.4</td>\n",
              "    </tr>\n",
              "    <tr>\n",
              "      <th>...</th>\n",
              "      <td>...</td>\n",
              "      <td>...</td>\n",
              "      <td>...</td>\n",
              "      <td>...</td>\n",
              "      <td>...</td>\n",
              "      <td>...</td>\n",
              "      <td>...</td>\n",
              "    </tr>\n",
              "    <tr>\n",
              "      <th>24/12/2018</th>\n",
              "      <td>24/12/2018</td>\n",
              "      <td>129.426000</td>\n",
              "      <td>132.755997</td>\n",
              "      <td>128.544003</td>\n",
              "      <td>129.597002</td>\n",
              "      <td>129.597002</td>\n",
              "      <td>4249370.4</td>\n",
              "    </tr>\n",
              "    <tr>\n",
              "      <th>26/12/2018</th>\n",
              "      <td>26/12/2018</td>\n",
              "      <td>130.667997</td>\n",
              "      <td>138.209994</td>\n",
              "      <td>130.308002</td>\n",
              "      <td>138.155997</td>\n",
              "      <td>138.155997</td>\n",
              "      <td>7299830.4</td>\n",
              "    </tr>\n",
              "    <tr>\n",
              "      <th>27/12/2018</th>\n",
              "      <td>27/12/2018</td>\n",
              "      <td>136.320003</td>\n",
              "      <td>142.079997</td>\n",
              "      <td>135.455997</td>\n",
              "      <td>142.079997</td>\n",
              "      <td>142.079997</td>\n",
              "      <td>7170950.4</td>\n",
              "    </tr>\n",
              "    <tr>\n",
              "      <th>28/12/2018</th>\n",
              "      <td>28/12/2018</td>\n",
              "      <td>142.800000</td>\n",
              "      <td>143.592004</td>\n",
              "      <td>139.749000</td>\n",
              "      <td>141.611993</td>\n",
              "      <td>141.611993</td>\n",
              "      <td>6548600.4</td>\n",
              "    </tr>\n",
              "    <tr>\n",
              "      <th>31/12/2018</th>\n",
              "      <td>31/12/2018</td>\n",
              "      <td>142.800000</td>\n",
              "      <td>144.573001</td>\n",
              "      <td>141.441005</td>\n",
              "      <td>143.673001</td>\n",
              "      <td>143.673001</td>\n",
              "      <td>4920950.4</td>\n",
              "    </tr>\n",
              "  </tbody>\n",
              "</table>\n",
              "<p>2265 rows × 7 columns</p>\n",
              "</div>"
            ],
            "text/plain": [
              "                  Date        Open  ...   Adj Close     Volume\n",
              "Date                                ...                       \n",
              "31/12/2009  31/12/2009   37.068000  ...   36.998249  4892780.4\n",
              "4/01/2010    4/01/2010   37.187250  ...   37.234500  7115420.4\n",
              "5/01/2010    5/01/2010   37.151249  ...   37.162500  7148180.4\n",
              "6/01/2010    6/01/2010   37.218750  ...   37.133251  4610180.4\n",
              "7/01/2010    7/01/2010   37.166999  ...   37.059000  4356020.4\n",
              "...                ...         ...  ...         ...        ...\n",
              "24/12/2018  24/12/2018  129.426000  ...  129.597002  4249370.4\n",
              "26/12/2018  26/12/2018  130.667997  ...  138.155997  7299830.4\n",
              "27/12/2018  27/12/2018  136.320003  ...  142.079997  7170950.4\n",
              "28/12/2018  28/12/2018  142.800000  ...  141.611993  6548600.4\n",
              "31/12/2018  31/12/2018  142.800000  ...  143.673001  4920950.4\n",
              "\n",
              "[2265 rows x 7 columns]"
            ]
          },
          "metadata": {
            "tags": []
          },
          "execution_count": 6
        }
      ]
    },
    {
      "cell_type": "code",
      "metadata": {
        "id": "pAcMohaOEDf3",
        "outputId": "57eadb3f-8e58-4dae-8495-34eaf496dae7",
        "colab": {
          "base_uri": "https://localhost:8080/",
          "height": 518
        }
      },
      "source": [
        "plt.figure(figsize=(16,8))\n",
        "plt.title('Close Price History')\n",
        "plt.plot(df['Close'])\n",
        "plt.xlabel('Date', fontsize = 18)\n",
        "plt.ylabel('Close Price', fontsize = 18)\n",
        "plt.show()"
      ],
      "execution_count": null,
      "outputs": [
        {
          "output_type": "display_data",
          "data": {
            "image/png": "[encoded data removed]",
            "text/plain": [
              "<Figure size 1152x576 with 1 Axes>"
            ]
          },
          "metadata": {
            "tags": [],
            "needs_background": "light"
          }
        }
      ]
    },
    {
      "cell_type": "code",
      "metadata": {
        "id": "XkxgXjLoB5Bx",
        "outputId": "888eb7ae-2059-40ef-aacf-6f0003d59043",
        "colab": {
          "base_uri": "https://localhost:8080/",
          "height": 34
        }
      },
      "source": [
        "data = df.filter(['Close'])\n",
        "dataset = data.values\n",
        "training_data_len = math.ceil(len(dataset)*0.8)\n",
        "training_data_len"
      ],
      "execution_count": null,
      "outputs": [
        {
          "output_type": "execute_result",
          "data": {
            "text/plain": [
              "1812"
            ]
          },
          "metadata": {
            "tags": []
          },
          "execution_count": 8
        }
      ]
    },
    {
      "cell_type": "code",
      "metadata": {
        "id": "akp-7WuHH1_7",
        "outputId": "6ba245c1-b3d1-4fd2-e5be-98e96f952b3d",
        "colab": {
          "base_uri": "https://localhost:8080/",
          "height": 136
        }
      },
      "source": [
        "#Scale Data\n",
        "scaler = MinMaxScaler(feature_range=(0, 1))\n",
        "scaled_data = scaler.fit_transform(dataset)\n",
        "scaled_data"
      ],
      "execution_count": null,
      "outputs": [
        {
          "output_type": "execute_result",
          "data": {
            "text/plain": [
              "array([[0.02016768],\n",
              "       [0.02197916],\n",
              "       [0.02142709],\n",
              "       ...,\n",
              "       [0.82589195],\n",
              "       [0.82230349],\n",
              "       [0.83810646]])"
            ]
          },
          "metadata": {
            "tags": []
          },
          "execution_count": 9
        }
      ]
    },
    {
      "cell_type": "code",
      "metadata": {
        "id": "TfoDZgQCIwAx",
        "outputId": "ad76e590-d1ff-4842-f4c8-1377210d5be1",
        "colab": {
          "base_uri": "https://localhost:8080/",
          "height": 306
        }
      },
      "source": [
        "#Create Training Dataset\n",
        "train_data = scaled_data[0:training_data_len,:]\n",
        "#Split the data into x_train and y_train\n",
        "x_train = []\n",
        "y_train = []\n",
        "\n",
        "for i in range(60, len(train_data)):\n",
        "  x_train.append(train_data[i-60:i,0])\n",
        "  y_train.append(train_data[i, 0])\n",
        "  if i<= 60:\n",
        "    print(x_train)\n",
        "    print(y_train)\n",
        "    print()"
      ],
      "execution_count": null,
      "outputs": [
        {
          "output_type": "stream",
          "text": [
            "[array([2.01676824e-02, 2.19791570e-02, 2.14270907e-02, 2.12028183e-02,\n",
            "       2.06334962e-02, 2.08232702e-02, 1.99606658e-02, 1.07135454e-02,\n",
            "       1.10758376e-02, 1.22662359e-02, 1.13001100e-02, 1.28010465e-02,\n",
            "       1.11621034e-02, 8.28099455e-03, 4.24401222e-03, 3.53667023e-03,\n",
            "       5.74494859e-03, 5.72769282e-03, 3.58843754e-03, 2.53605255e-03,\n",
            "       5.34814481e-03, 5.14111499e-03, 6.10724091e-03, 6.03820488e-04,\n",
            "       0.00000000e+00, 6.90033698e-05, 4.45104196e-03, 4.57180612e-03,\n",
            "       6.69380556e-03, 5.19286919e-03, 7.10785200e-03, 8.10847635e-03,\n",
            "       1.09895719e-02, 1.18004222e-02, 1.20074520e-02, 1.06272796e-02,\n",
            "       1.26975382e-02, 1.02304890e-02, 1.01269675e-02, 1.52163415e-02,\n",
            "       1.68380289e-02, 1.46470194e-02, 1.51990857e-02, 1.75971250e-02,\n",
            "       1.87530117e-02, 2.00124200e-02, 2.26174890e-02, 2.30142797e-02,\n",
            "       2.35145918e-02, 2.33248178e-02, 2.52053023e-02, 2.52915548e-02,\n",
            "       2.55848503e-02, 2.40494023e-02, 2.66199730e-02, 2.59126311e-02,\n",
            "       2.42909437e-02, 2.39631498e-02, 2.22034294e-02, 2.18928912e-02])]\n",
            "[0.02299703702075029]\n",
            "\n"
          ],
          "name": "stdout"
        }
      ]
    },
    {
      "cell_type": "code",
      "metadata": {
        "id": "HK7GeCLNJVcm",
        "outputId": "091191f1-4ad1-4d39-8c70-2cd2a9ce5790",
        "colab": {
          "base_uri": "https://localhost:8080/",
          "height": 34
        }
      },
      "source": [
        "#Convert the x_train and y_train to numpy arrays\n",
        "x_train, y_train = np.array(x_train), np.array(y_train)\n",
        "#Reshape\n",
        "x_train = np.reshape(x_train, (x_train.shape[0], x_train.shape[1], 1))\n",
        "x_train.shape"
      ],
      "execution_count": null,
      "outputs": [
        {
          "output_type": "execute_result",
          "data": {
            "text/plain": [
              "(1752, 60, 1)"
            ]
          },
          "metadata": {
            "tags": []
          },
          "execution_count": 11
        }
      ]
    },
    {
      "cell_type": "code",
      "metadata": {
        "id": "5LLNFtDjKas4"
      },
      "source": [
        "#Build LSTM\n",
        "model = Sequential()\n",
        "model.add(LSTM(50, return_sequences=True, input_shape=(x_train.shape[1], 1)))\n",
        "model.add(LSTM(50, return_sequences=False))\n",
        "model.add(Dense(25))\n",
        "model.add(Dense(1))"
      ],
      "execution_count": null,
      "outputs": []
    },
    {
      "cell_type": "code",
      "metadata": {
        "id": "KIefs6dbKs2Z"
      },
      "source": [
        "#Compile Model\n",
        "model.compile(optimizer='adam', loss='mean_squared_error')"
      ],
      "execution_count": null,
      "outputs": []
    },
    {
      "cell_type": "code",
      "metadata": {
        "id": "Zm0reJevLegb",
        "outputId": "15f5e23a-197b-4082-e88b-3feac77d768b",
        "colab": {
          "base_uri": "https://localhost:8080/",
          "height": 51
        }
      },
      "source": [
        "#Train Model\n",
        "model.fit(x_train, y_train, batch_size=1, epochs=1)"
      ],
      "execution_count": null,
      "outputs": [
        {
          "output_type": "stream",
          "text": [
            "1752/1752 [==============================] - 36s 21ms/step - loss: 5.4615e-04\n"
          ],
          "name": "stdout"
        },
        {
          "output_type": "execute_result",
          "data": {
            "text/plain": [
              "<tensorflow.python.keras.callbacks.History at 0x7faeedac2f98>"
            ]
          },
          "metadata": {
            "tags": []
          },
          "execution_count": 14
        }
      ]
    },
    {
      "cell_type": "code",
      "metadata": {
        "id": "ZXm0Nt0dLmaA"
      },
      "source": [
        "#Create the testing data set\n",
        "test_data=scaled_data[training_data_len-60:,:]\n",
        "#Create data sets x_test y_test\n",
        "x_test=[]\n",
        "y_test=dataset[training_data_len:,:]\n",
        "for i in range(60, len(test_data)):\n",
        "  x_test.append(test_data[i-60:i,0])\n",
        "  "
      ],
      "execution_count": null,
      "outputs": []
    },
    {
      "cell_type": "code",
      "metadata": {
        "id": "xfiO2wl2P9Qg"
      },
      "source": [
        "#Convert data to numpy array\n",
        "x_test = np.array(x_test)"
      ],
      "execution_count": null,
      "outputs": []
    },
    {
      "cell_type": "code",
      "metadata": {
        "id": "ueWCJBoxQCni",
        "outputId": "e6bef247-ad2a-4854-fafd-e5c4735d9eaa",
        "colab": {
          "base_uri": "https://localhost:8080/",
          "height": 34
        }
      },
      "source": [
        "#Reshape\n",
        "x_test = np.reshape(x_test, (x_test.shape[0], x_test.shape[1], 1))\n",
        "x_test.shape"
      ],
      "execution_count": null,
      "outputs": [
        {
          "output_type": "execute_result",
          "data": {
            "text/plain": [
              "(453, 60, 1)"
            ]
          },
          "metadata": {
            "tags": []
          },
          "execution_count": 17
        }
      ]
    },
    {
      "cell_type": "code",
      "metadata": {
        "id": "-5KUeerHQQio"
      },
      "source": [
        "#Get the models predicted price values\n",
        "predictions = model.predict(x_test)\n",
        "predictions = scaler.inverse_transform(predictions)"
      ],
      "execution_count": null,
      "outputs": []
    },
    {
      "cell_type": "code",
      "metadata": {
        "id": "7U7VsHSjQpN8",
        "outputId": "70ac4bb7-d80d-4270-bed6-1ff4e9db3c1d",
        "colab": {
          "base_uri": "https://localhost:8080/",
          "height": 34
        }
      },
      "source": [
        "#RMSE\n",
        "rmse = np.sqrt(np.mean(predictions-y_test)**2)\n",
        "rmse"
      ],
      "execution_count": null,
      "outputs": [
        {
          "output_type": "execute_result",
          "data": {
            "text/plain": [
              "8.860650930622285"
            ]
          },
          "metadata": {
            "tags": []
          },
          "execution_count": 19
        }
      ]
    },
    {
      "cell_type": "code",
      "metadata": {
        "id": "ZGMTXdHSQ5oy",
        "outputId": "90931a83-e47c-4551-cf9d-8c7bc962f838",
        "colab": {
          "base_uri": "https://localhost:8080/",
          "height": 603
        }
      },
      "source": [
        "#Plot data\n",
        "train = data[:training_data_len]\n",
        "valid = data[training_data_len:]\n",
        "valid['Predictions'] = predictions\n",
        "plt.figure(figsize=(16,8))\n",
        "plt.xlabel('Date', fontsize = 18)\n",
        "plt.ylabel('Close Price', fontsize = 18)\n",
        "plt.plot(train['Close'])\n",
        "plt.plot(valid[['Close', 'Predictions']])\n",
        "plt.legend(['Train', 'Val', 'Predictions'], loc='lower right')\n",
        "plt.show()"
      ],
      "execution_count": null,
      "outputs": [
        {
          "output_type": "stream",
          "text": [
            "/usr/local/lib/python3.6/dist-packages/ipykernel_launcher.py:4: SettingWithCopyWarning: \n",
            "A value is trying to be set on a copy of a slice from a DataFrame.\n",
            "Try using .loc[row_indexer,col_indexer] = value instead\n",
            "\n",
            "See the caveats in the documentation: https://pandas.pydata.org/pandas-docs/stable/user_guide/indexing.html#returning-a-view-versus-a-copy\n",
            "  after removing the cwd from sys.path.\n"
          ],
          "name": "stderr"
        },
        {
          "output_type": "display_data",
          "data": {
            "image/png": "[encoded data removed]",
            "text/plain": [
              "<Figure size 1152x576 with 1 Axes>"
            ]
          },
          "metadata": {
            "tags": [],
            "needs_background": "light"
          }
        }
      ]
    },
    {
      "cell_type": "code",
      "metadata": {
        "id": "T1ZW51ASRrYp",
        "outputId": "4be99812-0b72-4126-9365-2feaae568834",
        "colab": {
          "base_uri": "https://localhost:8080/",
          "height": 450
        }
      },
      "source": [
        "valid"
      ],
      "execution_count": null,
      "outputs": [
        {
          "output_type": "execute_result",
          "data": {
            "text/html": [
              "<div>\n",
              "<style scoped>\n",
              "    .dataframe tbody tr th:only-of-type {\n",
              "        vertical-align: middle;\n",
              "    }\n",
              "\n",
              "    .dataframe tbody tr th {\n",
              "        vertical-align: top;\n",
              "    }\n",
              "\n",
              "    .dataframe thead th {\n",
              "        text-align: right;\n",
              "    }\n",
              "</style>\n",
              "<table border=\"1\" class=\"dataframe\">\n",
              "  <thead>\n",
              "    <tr style=\"text-align: right;\">\n",
              "      <th></th>\n",
              "      <th>Close</th>\n",
              "      <th>Predictions</th>\n",
              "    </tr>\n",
              "    <tr>\n",
              "      <th>Date</th>\n",
              "      <th></th>\n",
              "      <th></th>\n",
              "    </tr>\n",
              "  </thead>\n",
              "  <tbody>\n",
              "    <tr>\n",
              "      <th>15/03/2017</th>\n",
              "      <td>95.532003</td>\n",
              "      <td>90.538521</td>\n",
              "    </tr>\n",
              "    <tr>\n",
              "      <th>16/03/2017</th>\n",
              "      <td>95.567997</td>\n",
              "      <td>90.591599</td>\n",
              "    </tr>\n",
              "    <tr>\n",
              "      <th>17/03/2017</th>\n",
              "      <td>95.126999</td>\n",
              "      <td>90.623161</td>\n",
              "    </tr>\n",
              "    <tr>\n",
              "      <th>20/03/2017</th>\n",
              "      <td>95.010001</td>\n",
              "      <td>90.573593</td>\n",
              "    </tr>\n",
              "    <tr>\n",
              "      <th>21/03/2017</th>\n",
              "      <td>93.795003</td>\n",
              "      <td>90.477982</td>\n",
              "    </tr>\n",
              "    <tr>\n",
              "      <th>...</th>\n",
              "      <td>...</td>\n",
              "      <td>...</td>\n",
              "    </tr>\n",
              "    <tr>\n",
              "      <th>24/12/2018</th>\n",
              "      <td>129.597002</td>\n",
              "      <td>126.435234</td>\n",
              "    </tr>\n",
              "    <tr>\n",
              "      <th>26/12/2018</th>\n",
              "      <td>138.155997</td>\n",
              "      <td>124.401299</td>\n",
              "    </tr>\n",
              "    <tr>\n",
              "      <th>27/12/2018</th>\n",
              "      <td>142.079997</td>\n",
              "      <td>124.067993</td>\n",
              "    </tr>\n",
              "    <tr>\n",
              "      <th>28/12/2018</th>\n",
              "      <td>141.611993</td>\n",
              "      <td>125.147018</td>\n",
              "    </tr>\n",
              "    <tr>\n",
              "      <th>31/12/2018</th>\n",
              "      <td>143.673001</td>\n",
              "      <td>126.621170</td>\n",
              "    </tr>\n",
              "  </tbody>\n",
              "</table>\n",
              "<p>453 rows × 2 columns</p>\n",
              "</div>"
            ],
            "text/plain": [
              "                 Close  Predictions\n",
              "Date                               \n",
              "15/03/2017   95.532003    90.538521\n",
              "16/03/2017   95.567997    90.591599\n",
              "17/03/2017   95.126999    90.623161\n",
              "20/03/2017   95.010001    90.573593\n",
              "21/03/2017   93.795003    90.477982\n",
              "...                ...          ...\n",
              "24/12/2018  129.597002   126.435234\n",
              "26/12/2018  138.155997   124.401299\n",
              "27/12/2018  142.079997   124.067993\n",
              "28/12/2018  141.611993   125.147018\n",
              "31/12/2018  143.673001   126.621170\n",
              "\n",
              "[453 rows x 2 columns]"
            ]
          },
          "metadata": {
            "tags": []
          },
          "execution_count": 21
        }
      ]
    },
    {
      "cell_type": "code",
      "metadata": {
        "id": "KF-CswdCR15_"
      },
      "source": [
        "df_new = df.filter(['Close'])\n",
        "last_60_days = df_new[-60:].values\n",
        "\n",
        "for i in range(60, 415):\n",
        "    last_60_days_scaled = scaler.transform(last_60_days)\n",
        "    x_test = []\n",
        "    x_test.append(last_60_days_scaled[i-60:i, 0])\n",
        "    x_test = np.array(x_test)\n",
        "    x_test = np.reshape(x_test, (x_test.shape[0], x_test.shape[1], 1))\n",
        "    predict = model.predict(x_test)\n",
        "    predict_value = scaler.inverse_transform(predict)\n",
        "    last_60_days = np.append(last_60_days, predict_value)\n",
        "    last_60_days = np.reshape(last_60_days, (len(last_60_days), 1))"
      ],
      "execution_count": null,
      "outputs": []
    },
    {
      "cell_type": "code",
      "metadata": {
        "id": "-bLpcdzpSod_",
        "outputId": "9800d4f2-01a2-4cac-d4d6-aa6b8db77f71",
        "colab": {
          "base_uri": "https://localhost:8080/",
          "height": 1000
        }
      },
      "source": [
        "predicted = last_60_days[60:len(last_60_days)]\n",
        "predicted"
      ],
      "execution_count": null,
      "outputs": [
        {
          "output_type": "execute_result",
          "data": {
            "text/plain": [
              "array([[128.38990784],\n",
              "       [127.53456879],\n",
              "       [125.63054657],\n",
              "       [123.24569702],\n",
              "       [120.67227936],\n",
              "       [118.06296539],\n",
              "       [115.49922943],\n",
              "       [113.02487946],\n",
              "       [110.66291046],\n",
              "       [108.42390442],\n",
              "       [106.3107605 ],\n",
              "       [104.32138824],\n",
              "       [102.45048523],\n",
              "       [100.69068909],\n",
              "       [ 99.03353882],\n",
              "       [ 97.47009277],\n",
              "       [ 95.99140167],\n",
              "       [ 94.58891296],\n",
              "       [ 93.25461578],\n",
              "       [ 91.98121643],\n",
              "       [ 90.76226044],\n",
              "       [ 89.59204865],\n",
              "       [ 88.46566772],\n",
              "       [ 87.37896729],\n",
              "       [ 86.32845306],\n",
              "       [ 85.31118011],\n",
              "       [ 84.32474518],\n",
              "       [ 83.36715698],\n",
              "       [ 82.43678284],\n",
              "       [ 81.53227997],\n",
              "       [ 80.65249634],\n",
              "       [ 79.79649353],\n",
              "       [ 78.9634552 ],\n",
              "       [ 78.15266418],\n",
              "       [ 77.36348724],\n",
              "       [ 76.59529877],\n",
              "       [ 75.84753418],\n",
              "       [ 75.11966705],\n",
              "       [ 74.41114044],\n",
              "       [ 73.72144318],\n",
              "       [ 73.05005646],\n",
              "       [ 72.39647675],\n",
              "       [ 71.76020813],\n",
              "       [ 71.14073944],\n",
              "       [ 70.53756714],\n",
              "       [ 69.95022583],\n",
              "       [ 69.37823486],\n",
              "       [ 68.82112122],\n",
              "       [ 68.27843475],\n",
              "       [ 67.74974823],\n",
              "       [ 67.23461914],\n",
              "       [ 66.73265076],\n",
              "       [ 66.24343872],\n",
              "       [ 65.76657867],\n",
              "       [ 65.30173492],\n",
              "       [ 64.84854126],\n",
              "       [ 64.40663147],\n",
              "       [ 63.97568512],\n",
              "       [ 63.55538177],\n",
              "       [ 63.14542389],\n",
              "       [ 62.74550629],\n",
              "       [ 62.35536957],\n",
              "       [ 61.97472382],\n",
              "       [ 61.603302  ],\n",
              "       [ 61.24084854],\n",
              "       [ 60.88713074],\n",
              "       [ 60.54190063],\n",
              "       [ 60.20493698],\n",
              "       [ 59.87601089],\n",
              "       [ 59.55490494],\n",
              "       [ 59.24143219],\n",
              "       [ 58.93536758],\n",
              "       [ 58.63652802],\n",
              "       [ 58.34472656],\n",
              "       [ 58.05977631],\n",
              "       [ 57.78149796],\n",
              "       [ 57.50973129],\n",
              "       [ 57.24430084],\n",
              "       [ 56.98504257],\n",
              "       [ 56.73180389],\n",
              "       [ 56.48443604],\n",
              "       [ 56.24278259],\n",
              "       [ 56.00671005],\n",
              "       [ 55.77607346],\n",
              "       [ 55.55073929],\n",
              "       [ 55.33057404],\n",
              "       [ 55.11545181],\n",
              "       [ 54.90524673],\n",
              "       [ 54.69984055],\n",
              "       [ 54.49911118],\n",
              "       [ 54.30295181],\n",
              "       [ 54.11124802],\n",
              "       [ 53.92389297],\n",
              "       [ 53.74077606],\n",
              "       [ 53.56180191],\n",
              "       [ 53.38687134],\n",
              "       [ 53.21588135],\n",
              "       [ 53.04874039],\n",
              "       [ 52.88536453],\n",
              "       [ 52.7256546 ],\n",
              "       [ 52.56951904],\n",
              "       [ 52.41689301],\n",
              "       [ 52.26767349],\n",
              "       [ 52.12179565],\n",
              "       [ 51.97917175],\n",
              "       [ 51.83972931],\n",
              "       [ 51.70339203],\n",
              "       [ 51.57008743],\n",
              "       [ 51.43974686],\n",
              "       [ 51.31230164],\n",
              "       [ 51.18768311],\n",
              "       [ 51.06582642],\n",
              "       [ 50.94666672],\n",
              "       [ 50.8301506 ],\n",
              "       [ 50.71620178],\n",
              "       [ 50.60477066],\n",
              "       [ 50.49580002],\n",
              "       [ 50.38923264],\n",
              "       [ 50.28501511],\n",
              "       [ 50.1830864 ],\n",
              "       [ 50.08340454],\n",
              "       [ 49.98590851],\n",
              "       [ 49.89055634],\n",
              "       [ 49.79729843],\n",
              "       [ 49.70608521],\n",
              "       [ 49.61687088],\n",
              "       [ 49.52960587],\n",
              "       [ 49.44425583],\n",
              "       [ 49.36077118],\n",
              "       [ 49.27911377],\n",
              "       [ 49.19923782],\n",
              "       [ 49.12110901],\n",
              "       [ 49.04468155],\n",
              "       [ 48.96992111],\n",
              "       [ 48.89679337],\n",
              "       [ 48.82526016],\n",
              "       [ 48.75527954],\n",
              "       [ 48.6868248 ],\n",
              "       [ 48.6198616 ],\n",
              "       [ 48.55434799],\n",
              "       [ 48.49026489],\n",
              "       [ 48.42757034],\n",
              "       [ 48.36623764],\n",
              "       [ 48.30623245],\n",
              "       [ 48.24753571],\n",
              "       [ 48.19010544],\n",
              "       [ 48.13391876],\n",
              "       [ 48.0789566 ],\n",
              "       [ 48.025177  ],\n",
              "       [ 47.97256851],\n",
              "       [ 47.92109299],\n",
              "       [ 47.87073517],\n",
              "       [ 47.82146454],\n",
              "       [ 47.77326202],\n",
              "       [ 47.72609329],\n",
              "       [ 47.67995071],\n",
              "       [ 47.63479996],\n",
              "       [ 47.59062958],\n",
              "       [ 47.54740524],\n",
              "       [ 47.50511932],\n",
              "       [ 47.46374512],\n",
              "       [ 47.42325974],\n",
              "       [ 47.38364792],\n",
              "       [ 47.34489059],\n",
              "       [ 47.30696869],\n",
              "       [ 47.26986313],\n",
              "       [ 47.23355103],\n",
              "       [ 47.19803238],\n",
              "       [ 47.16326904],\n",
              "       [ 47.12925339],\n",
              "       [ 47.09597778],\n",
              "       [ 47.0634079 ],\n",
              "       [ 47.03154373],\n",
              "       [ 47.0003624 ],\n",
              "       [ 46.96985245],\n",
              "       [ 46.93999481],\n",
              "       [ 46.91078186],\n",
              "       [ 46.88219833],\n",
              "       [ 46.85422516],\n",
              "       [ 46.82685089],\n",
              "       [ 46.8000679 ],\n",
              "       [ 46.77385712],\n",
              "       [ 46.74821472],\n",
              "       [ 46.72311401],\n",
              "       [ 46.69855499],\n",
              "       [ 46.6745224 ],\n",
              "       [ 46.65100861],\n",
              "       [ 46.62799454],\n",
              "       [ 46.60547638],\n",
              "       [ 46.58343506],\n",
              "       [ 46.56187439],\n",
              "       [ 46.54077148],\n",
              "       [ 46.52012253],\n",
              "       [ 46.49991226],\n",
              "       [ 46.48013687],\n",
              "       [ 46.46078491],\n",
              "       [ 46.44184494],\n",
              "       [ 46.42331314],\n",
              "       [ 46.40517807],\n",
              "       [ 46.38742828],\n",
              "       [ 46.37006378],\n",
              "       [ 46.35306549],\n",
              "       [ 46.33643341],\n",
              "       [ 46.3201561 ],\n",
              "       [ 46.30422592],\n",
              "       [ 46.28863525],\n",
              "       [ 46.27338409],\n",
              "       [ 46.25845337],\n",
              "       [ 46.24384308],\n",
              "       [ 46.22954941],\n",
              "       [ 46.2155571 ],\n",
              "       [ 46.20186234],\n",
              "       [ 46.1884613 ],\n",
              "       [ 46.17535019],\n",
              "       [ 46.16251755],\n",
              "       [ 46.14995575],\n",
              "       [ 46.13766479],\n",
              "       [ 46.12563705],\n",
              "       [ 46.1138649 ],\n",
              "       [ 46.10234451],\n",
              "       [ 46.09106827],\n",
              "       [ 46.08003616],\n",
              "       [ 46.06923676],\n",
              "       [ 46.05867004],\n",
              "       [ 46.04833221],\n",
              "       [ 46.03820801],\n",
              "       [ 46.02830124],\n",
              "       [ 46.01860809],\n",
              "       [ 46.00912094],\n",
              "       [ 45.99983597],\n",
              "       [ 45.99075317],\n",
              "       [ 45.9818573 ],\n",
              "       [ 45.97315598],\n",
              "       [ 45.96464157],\n",
              "       [ 45.95630264],\n",
              "       [ 45.94814682],\n",
              "       [ 45.94016266],\n",
              "       [ 45.93235016],\n",
              "       [ 45.92470551],\n",
              "       [ 45.91722107],\n",
              "       [ 45.90990067],\n",
              "       [ 45.90272903],\n",
              "       [ 45.89571762],\n",
              "       [ 45.88885117],\n",
              "       [ 45.88213348],\n",
              "       [ 45.87555695],\n",
              "       [ 45.86912155],\n",
              "       [ 45.8628273 ],\n",
              "       [ 45.85666275],\n",
              "       [ 45.8506279 ],\n",
              "       [ 45.84472656],\n",
              "       [ 45.8389473 ],\n",
              "       [ 45.83329391],\n",
              "       [ 45.82775497],\n",
              "       [ 45.82234192],\n",
              "       [ 45.81703949],\n",
              "       [ 45.81185532],\n",
              "       [ 45.80677795],\n",
              "       [ 45.8018074 ],\n",
              "       [ 45.79694366],\n",
              "       [ 45.79218292],\n",
              "       [ 45.78752899],\n",
              "       [ 45.78296661],\n",
              "       [ 45.77850723],\n",
              "       [ 45.77413559],\n",
              "       [ 45.76986694],\n",
              "       [ 45.76568222],\n",
              "       [ 45.76158524],\n",
              "       [ 45.75758362],\n",
              "       [ 45.75366211],\n",
              "       [ 45.74982452],\n",
              "       [ 45.74607086],\n",
              "       [ 45.74239349],\n",
              "       [ 45.73879623],\n",
              "       [ 45.73527908],\n",
              "       [ 45.7318306 ],\n",
              "       [ 45.72845459],\n",
              "       [ 45.72515869],\n",
              "       [ 45.72192764],\n",
              "       [ 45.71876526],\n",
              "       [ 45.71567154],\n",
              "       [ 45.71264267],\n",
              "       [ 45.70967865],\n",
              "       [ 45.70677948],\n",
              "       [ 45.70393753],\n",
              "       [ 45.70116425],\n",
              "       [ 45.69844055],\n",
              "       [ 45.69577789],\n",
              "       [ 45.69317627],\n",
              "       [ 45.69062424],\n",
              "       [ 45.68812943],\n",
              "       [ 45.68568802],\n",
              "       [ 45.68330002],\n",
              "       [ 45.68095779],\n",
              "       [ 45.67866898],\n",
              "       [ 45.67642975],\n",
              "       [ 45.67424011],\n",
              "       [ 45.67209244],\n",
              "       [ 45.66999054],\n",
              "       [ 45.66793442],\n",
              "       [ 45.66592407],\n",
              "       [ 45.66395569],\n",
              "       [ 45.66202545],\n",
              "       [ 45.66014099],\n",
              "       [ 45.65829468],\n",
              "       [ 45.65648651],\n",
              "       [ 45.65472031],\n",
              "       [ 45.65298843],\n",
              "       [ 45.65129471],\n",
              "       [ 45.64963913],\n",
              "       [ 45.64801407],\n",
              "       [ 45.64643097],\n",
              "       [ 45.64487457],\n",
              "       [ 45.64335632],\n",
              "       [ 45.64186478],\n",
              "       [ 45.64040756],\n",
              "       [ 45.63898468],\n",
              "       [ 45.6375885 ],\n",
              "       [ 45.63622284],\n",
              "       [ 45.63488388],\n",
              "       [ 45.63357544],\n",
              "       [ 45.63229752],\n",
              "       [ 45.63104248],\n",
              "       [ 45.62981796],\n",
              "       [ 45.62861633],\n",
              "       [ 45.62744141],\n",
              "       [ 45.62629318],\n",
              "       [ 45.62516785],\n",
              "       [ 45.62406921],\n",
              "       [ 45.62298965],\n",
              "       [ 45.62193298],\n",
              "       [ 45.62090302],\n",
              "       [ 45.61988831],\n",
              "       [ 45.61890411],\n",
              "       [ 45.61793518],\n",
              "       [ 45.61698532],\n",
              "       [ 45.61606216],\n",
              "       [ 45.61515045],\n",
              "       [ 45.61426544],\n",
              "       [ 45.61339569],\n",
              "       [ 45.61254501],\n",
              "       [ 45.61171341],\n",
              "       [ 45.61090088],\n",
              "       [ 45.61009979],\n",
              "       [ 45.60932159],\n",
              "       [ 45.60855484],\n",
              "       [ 45.60781097],\n",
              "       [ 45.60707855],\n",
              "       [ 45.60636139],\n",
              "       [ 45.60565948],\n",
              "       [ 45.60497284],\n",
              "       [ 45.60430527],\n",
              "       [ 45.60364532],\n",
              "       [ 45.60300064],\n",
              "       [ 45.60237122]])"
            ]
          },
          "metadata": {
            "tags": []
          },
          "execution_count": 27
        }
      ]
    },
    {
      "cell_type": "code",
      "metadata": {
        "id": "SpRwf31OTabt",
        "outputId": "81cdfc32-ed5a-4d00-9b53-9b81d0957d45",
        "colab": {
          "resources": {
            "http://localhost:8080/nbextensions/google.colab/files.js": {
              "data": "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",
              "ok": true,
              "headers": [
                [
                  "content-type",
                  "application/javascript"
                ]
              ],
              "status": 200,
              "status_text": ""
            }
          },
          "base_uri": "https://localhost:8080/",
          "height": 72
        }
      },
      "source": [
        "from google.colab import files\n",
        "uploaded = files.upload()"
      ],
      "execution_count": null,
      "outputs": [
        {
          "output_type": "display_data",
          "data": {
            "text/html": [
              "\n",
              "     <input type=\"file\" id=\"files-16ebede5-3b29-4bf6-9598-3ab99172e879\" name=\"files[]\" multiple disabled\n",
              "        style=\"border:none\" />\n",
              "     <output id=\"result-16ebede5-3b29-4bf6-9598-3ab99172e879\">\n",
              "      Upload widget is only available when the cell has been executed in the\n",
              "      current browser session. Please rerun this cell to enable.\n",
              "      </output>\n",
              "      <script src=\"/nbextensions/google.colab/files.js\"></script> "
            ],
            "text/plain": [
              "<IPython.core.display.HTML object>"
            ]
          },
          "metadata": {
            "tags": []
          }
        },
        {
          "output_type": "stream",
          "text": [
            "Saving Sample Submission.csv to Sample Submission.csv\n"
          ],
          "name": "stdout"
        }
      ]
    },
    {
      "cell_type": "code",
      "metadata": {
        "id": "mgH40vsBTPd6"
      },
      "source": [
        "df_submission = pd.read_csv('Sample Submission.csv')"
      ],
      "execution_count": null,
      "outputs": []
    },
    {
      "cell_type": "code",
      "metadata": {
        "id": "k8ZXtHhmS0DJ"
      },
      "source": [
        "df_submission = df_submission.copy(deep=True)\n",
        "df_submission['Close'] = predicted\n",
        "df_submission.to_csv('LSTM_prediction.csv', index=False)"
      ],
      "execution_count": null,
      "outputs": []
    },
    {
      "cell_type": "code",
      "metadata": {
        "id": "mC4vpOxSTp48",
        "outputId": "038693cf-bd56-435d-ff12-6e6ba0842aea",
        "colab": {
          "base_uri": "https://localhost:8080/",
          "height": 17
        }
      },
      "source": [
        " files.download('LSTM_prediction.csv')"
      ],
      "execution_count": null,
      "outputs": [
        {
          "output_type": "display_data",
          "data": {
            "application/javascript": [
              "\n",
              "    async function download(id, filename, size) {\n",
              "      if (!google.colab.kernel.accessAllowed) {\n",
              "        return;\n",
              "      }\n",
              "      const div = document.createElement('div');\n",
              "      const label = document.createElement('label');\n",
              "      label.textContent = `Downloading \"${filename}\": `;\n",
              "      div.appendChild(label);\n",
              "      const progress = document.createElement('progress');\n",
              "      progress.max = size;\n",
              "      div.appendChild(progress);\n",
              "      document.body.appendChild(div);\n",
              "\n",
              "      const buffers = [];\n",
              "      let downloaded = 0;\n",
              "\n",
              "      const channel = await google.colab.kernel.comms.open(id);\n",
              "      // Send a message to notify the kernel that we're ready.\n",
              "      channel.send({})\n",
              "\n",
              "      for await (const message of channel.messages) {\n",
              "        // Send a message to notify the kernel that we're ready.\n",
              "        channel.send({})\n",
              "        if (message.buffers) {\n",
              "          for (const buffer of message.buffers) {\n",
              "            buffers.push(buffer);\n",
              "            downloaded += buffer.byteLength;\n",
              "            progress.value = downloaded;\n",
              "          }\n",
              "        }\n",
              "      }\n",
              "      const blob = new Blob(buffers, {type: 'application/binary'});\n",
              "      const a = document.createElement('a');\n",
              "      a.href = window.URL.createObjectURL(blob);\n",
              "      a.download = filename;\n",
              "      div.appendChild(a);\n",
              "      a.click();\n",
              "      div.remove();\n",
              "    }\n",
              "  "
            ],
            "text/plain": [
              "<IPython.core.display.Javascript object>"
            ]
          },
          "metadata": {
            "tags": []
          }
        },
        {
          "output_type": "display_data",
          "data": {
            "application/javascript": [
              "download(\"download_b5bc84c5-0805-49bd-9594-44575e42e2da\", \"LSTM_prediction.csv\", 10267)"
            ],
            "text/plain": [
              "<IPython.core.display.Javascript object>"
            ]
          },
          "metadata": {
            "tags": []
          }
        }
      ]
    }
  ]
}